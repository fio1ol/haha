{
  "nbformat": 4,
  "nbformat_minor": 0,
  "metadata": {
    "colab": {
      "provenance": [],
      "authorship_tag": "ABX9TyPK5RVWr7PPQq41g53Jr8CV",
      "include_colab_link": true
    },
    "kernelspec": {
      "name": "python3",
      "display_name": "Python 3"
    },
    "language_info": {
      "name": "python"
    }
  },
  "cells": [
    {
      "cell_type": "markdown",
      "metadata": {
        "id": "view-in-github",
        "colab_type": "text"
      },
      "source": [
        "<a href=\"https://colab.research.google.com/github/fio1ol/haha/blob/main/pertemuan_7.ipynb\" target=\"_parent\"><img src=\"https://colab.research.google.com/assets/colab-badge.svg\" alt=\"Open In Colab\"/></a>"
      ]
    },
    {
      "cell_type": "markdown",
      "source": [
        "no 1, pertemuan 7, implementasi faktorial dan fibonacci"
      ],
      "metadata": {
        "id": "O4z0BvzypBiF"
      }
    },
    {
      "cell_type": "code",
      "source": [
        "#faktorial\n",
        "#rekursi dasar\n",
        "def faktorial_rekursif(n):\n",
        "    if n == 0 or n == 1:\n",
        "        return 1\n",
        "    return n * faktorial_rekursif(n - 1)\n",
        "\n",
        "# Input dari user\n",
        "n = int(input(\"Masukkan nilai untuk faktorial: \"))\n",
        "hasil = faktorial_rekursif(n)\n",
        "print(f\"Hasil faktorial dari {n} adalah: {hasil}\")\n",
        "\n",
        "#faktorial memoization\n",
        "def faktorial_memo(n, memo={}):\n",
        "    if n in memo:\n",
        "        return memo[n]\n",
        "    if n == 0 or n == 1:\n",
        "        memo[n] = 1\n",
        "    else:\n",
        "        memo[n] = n * faktorial_memo(n - 1, memo)\n",
        "    return memo[n]\n",
        "\n",
        "# Input dari user\n",
        "n = int(input(\"Masukkan nilai untuk faktorial (memoization): \"))\n",
        "hasil = faktorial_memo(n)\n",
        "print(f\"Hasil faktorial dari {n} adalah: {hasil}\")\n",
        "\n",
        "#iteratif\n",
        "def faktorial_iteratif(n):\n",
        "    hasil = 1\n",
        "    for i in range(2, n + 1):\n",
        "        hasil *= i\n",
        "    return hasil\n",
        "\n",
        "# Input dari user\n",
        "n = int(input(\"Masukkan nilai untuk faktorial (iteratif): \"))\n",
        "hasil = faktorial_iteratif(n)\n",
        "print(f\"Hasil faktorial dari {n} adalah: {hasil}\")\n",
        "\n",
        "#fibonacci\n",
        "#rekursi\n",
        "def fibonacci_rekursif(n):\n",
        "    if n <= 1:\n",
        "        return n\n",
        "    return fibonacci_rekursif(n - 1) + fibonacci_rekursif(n - 2)\n",
        "\n",
        "# Input dari user\n",
        "n = int(input(\"Masukkan nilai ke-n untuk Fibonacci (rekursif): \"))\n",
        "hasil = fibonacci_rekursif(n)\n",
        "print(f\"Nilai Fibonacci ke-{n} adalah: {hasil}\")\n",
        "\n",
        "#memoization\n",
        "def fibonacci_memo(n, memo={}):\n",
        "    if n in memo:\n",
        "        return memo[n]\n",
        "    if n <= 1:\n",
        "        memo[n] = n\n",
        "    else:\n",
        "        memo[n] = fibonacci_memo(n - 1, memo) + fibonacci_memo(n - 2, memo)\n",
        "    return memo[n]\n",
        "\n",
        "# Input dari user\n",
        "n = int(input(\"Masukkan nilai ke-n untuk Fibonacci (memoization): \"))\n",
        "hasil = fibonacci_memo(n)\n",
        "print(f\"Nilai Fibonacci ke-{n} adalah: {hasil}\")\n",
        "\n",
        "#iteratif\n",
        "def fibonacci_iteratif(n):\n",
        "    if n <= 1:\n",
        "        return n\n",
        "    a, b = 0, 1\n",
        "    for _ in range(2, n + 1):\n",
        "        a, b = b, a + b\n",
        "    return b\n",
        "\n",
        "# Input dari user\n",
        "n = int(input(\"Masukkan nilai ke-n untuk Fibonacci (iteratif): \"))\n",
        "hasil = fibonacci_iteratif(n)\n",
        "print(f\"Nilai Fibonacci ke-{n} adalah: {hasil}\")"
      ],
      "metadata": {
        "colab": {
          "base_uri": "https://localhost:8080/"
        },
        "id": "NWO3L1EnpDFK",
        "outputId": "b1106887-7a0a-4084-d46c-e00b8afb579f"
      },
      "execution_count": null,
      "outputs": [
        {
          "output_type": "stream",
          "name": "stdout",
          "text": [
            "Masukkan nilai untuk faktorial: 9\n",
            "Hasil faktorial dari 9 adalah: 362880\n",
            "Masukkan nilai untuk faktorial (memoization): 3\n",
            "Hasil faktorial dari 3 adalah: 6\n",
            "Masukkan nilai untuk faktorial (iteratif): 6\n",
            "Hasil faktorial dari 6 adalah: 720\n",
            "Masukkan nilai ke-n untuk Fibonacci (rekursif): 8\n",
            "Nilai Fibonacci ke-8 adalah: 21\n",
            "Masukkan nilai ke-n untuk Fibonacci (memoization): 6\n",
            "Nilai Fibonacci ke-6 adalah: 8\n",
            "Masukkan nilai ke-n untuk Fibonacci (iteratif): 10\n",
            "Nilai Fibonacci ke-10 adalah: 55\n"
          ]
        }
      ]
    },
    {
      "cell_type": "markdown",
      "source": [
        "no 2, pencarian biner rekursif"
      ],
      "metadata": {
        "id": "VVmbwLJ0uasm"
      }
    },
    {
      "cell_type": "code",
      "source": [
        "import random\n",
        "\n",
        "# Buat array acak yang sudah diurutkan\n",
        "def buat_array_terurut(panjang, batas):\n",
        "    array = sorted(random.sample(range(batas), panjang))\n",
        "    return array\n",
        "\n",
        "# Pencarian Biner Rekursif + Hitung langkah\n",
        "def binary_search_rekursif(arr, target, kiri, kanan, langkah=0):\n",
        "    langkah += 1\n",
        "    if kiri > kanan:\n",
        "        return -1, langkah  # tidak ditemukan\n",
        "    tengah = (kiri + kanan) // 2\n",
        "    if arr[tengah] == target:\n",
        "        return tengah, langkah\n",
        "    elif target < arr[tengah]:\n",
        "        return binary_search_rekursif(arr, target, kiri, tengah - 1, langkah)\n",
        "    else:\n",
        "        return binary_search_rekursif(arr, target, tengah + 1, kanan, langkah)\n",
        "\n",
        "# Input dan uji coba\n",
        "panjang = int(input(\"Masukkan panjang array: \"))\n",
        "batas = int(input(\"Masukkan batas angka maksimal: \"))\n",
        "arr = buat_array_terurut(panjang, batas)\n",
        "print(\"Array terurut:\", arr)\n",
        "\n",
        "target = int(input(\"Masukkan angka yang ingin dicari: \"))\n",
        "index, langkah = binary_search_rekursif(arr, target, 0, len(arr) - 1)\n",
        "\n",
        "if index != -1:\n",
        "    print(f\"Angka {target} ditemukan di indeks {index} dalam {langkah} langkah.\")\n",
        "else:\n",
        "    print(f\"Angka {target} tidak ditemukan setelah {langkah} langkah.\")"
      ],
      "metadata": {
        "colab": {
          "base_uri": "https://localhost:8080/"
        },
        "id": "0FEsHEhkuyVP",
        "outputId": "84ef942c-9744-42a5-f0f6-fb75ef15e36b"
      },
      "execution_count": null,
      "outputs": [
        {
          "output_type": "stream",
          "name": "stdout",
          "text": [
            "Masukkan panjang array: 9\n",
            "Masukkan batas angka maksimal: 15\n",
            "Array terurut: [2, 3, 5, 6, 7, 9, 10, 13, 14]\n",
            "Masukkan angka yang ingin dicari: 14\n",
            "Angka 14 ditemukan di indeks 8 dalam 4 langkah.\n"
          ]
        }
      ]
    },
    {
      "cell_type": "markdown",
      "source": [
        "no 3, tower of hanoi"
      ],
      "metadata": {
        "id": "kEKlhX_YxJvj"
      }
    },
    {
      "cell_type": "code",
      "source": [
        "def tower_of_hanoi(n, source, target, auxiliary, moves):\n",
        "    if n == 1:\n",
        "        moves.append(f\"Pindahkan cakram 1 dari {source} ke {target}\")\n",
        "        return\n",
        "    tower_of_hanoi(n-1, source, auxiliary, target, moves)\n",
        "    moves.append(f\"Pindahkan cakram {n} dari {source} ke {target}\")\n",
        "    tower_of_hanoi(n-1, auxiliary, target, source, moves)\n",
        "\n",
        "def run_hanoi(n):\n",
        "    moves = []\n",
        "    tower_of_hanoi(n, 'A', 'C', 'B', moves)\n",
        "    print(f\"\\n=== Tower of Hanoi untuk {n} cakram ===\")\n",
        "    for move in moves:\n",
        "        print(move)\n",
        "    print(f\"Total langkah: {len(moves)}\")\n",
        "\n",
        "# Input dari pengguna\n",
        "try:\n",
        "    n = int(input(\"Masukkan jumlah cakram: \"))\n",
        "    if n <= 0:\n",
        "        print(\"Jumlah cakram harus lebih dari 0.\")\n",
        "    else:\n",
        "        run_hanoi(n)\n",
        "except ValueError:\n",
        "    print(\"Masukkan angka yang valid.\")"
      ],
      "metadata": {
        "colab": {
          "base_uri": "https://localhost:8080/"
        },
        "id": "NXeMBNQ4uyXT",
        "outputId": "bd02a572-dfeb-49c8-d0bf-59f7a77d4e9b"
      },
      "execution_count": null,
      "outputs": [
        {
          "output_type": "stream",
          "name": "stdout",
          "text": [
            "Masukkan jumlah cakram: 4\n",
            "\n",
            "=== Tower of Hanoi untuk 4 cakram ===\n",
            "Pindahkan cakram 1 dari A ke B\n",
            "Pindahkan cakram 2 dari A ke C\n",
            "Pindahkan cakram 1 dari B ke C\n",
            "Pindahkan cakram 3 dari A ke B\n",
            "Pindahkan cakram 1 dari C ke A\n",
            "Pindahkan cakram 2 dari C ke B\n",
            "Pindahkan cakram 1 dari A ke B\n",
            "Pindahkan cakram 4 dari A ke C\n",
            "Pindahkan cakram 1 dari B ke C\n",
            "Pindahkan cakram 2 dari B ke A\n",
            "Pindahkan cakram 1 dari C ke A\n",
            "Pindahkan cakram 3 dari B ke C\n",
            "Pindahkan cakram 1 dari A ke B\n",
            "Pindahkan cakram 2 dari A ke C\n",
            "Pindahkan cakram 1 dari B ke C\n",
            "Total langkah: 15\n"
          ]
        }
      ]
    }
  ]
}