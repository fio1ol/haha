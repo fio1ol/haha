{
  "nbformat": 4,
  "nbformat_minor": 0,
  "metadata": {
    "colab": {
      "provenance": [],
      "authorship_tag": "ABX9TyNJ1xrMjVzJsnDqQ2elP6uj",
      "include_colab_link": true
    },
    "kernelspec": {
      "name": "python3",
      "display_name": "Python 3"
    },
    "language_info": {
      "name": "python"
    }
  },
  "cells": [
    {
      "cell_type": "markdown",
      "metadata": {
        "id": "view-in-github",
        "colab_type": "text"
      },
      "source": [
        "<a href=\"https://colab.research.google.com/github/fio1ol/haha/blob/main/nomor_1%2C_luas_dan_keliling.ipynb\" target=\"_parent\"><img src=\"https://colab.research.google.com/assets/colab-badge.svg\" alt=\"Open In Colab\"/></a>"
      ]
    },
    {
      "cell_type": "code",
      "execution_count": null,
      "metadata": {
        "colab": {
          "base_uri": "https://localhost:8080/"
        },
        "collapsed": true,
        "id": "w3lTrn9_O3JQ",
        "outputId": "a18f6e8b-0c09-4e55-9fd8-6f00d8aad4c6"
      },
      "outputs": [
        {
          "output_type": "stream",
          "name": "stdout",
          "text": [
            "Masukkan jari-jari lingkaran: 14\n",
            "Luas lingkaran: 615.75\n",
            "Keliling lingkaran: 87.96\n",
            "Masukkan sisi a: 1\n",
            "Masukkan sisi b: 4\n",
            "Masukkan sisi c: 8\n",
            "Luas segitiga: -134.0625\n",
            "Keliling segitiga: 13.0\n"
          ]
        }
      ],
      "source": [
        "import math\n",
        "\n",
        "# Input dari user\n",
        "r = float(input(\"Masukkan jari-jari lingkaran: \"))\n",
        "\n",
        "# Hitung luas dan keliling\n",
        "luas = math.pi * (r ** 2)\n",
        "keliling = 2 * math.pi * r\n",
        "\n",
        "# Tampilkan hasil\n",
        "print(\"Luas lingkaran: {:.2f}\".format(luas))\n",
        "print(\"Keliling lingkaran: {:.2f}\".format(keliling))\n",
        "\n",
        "a = float(input(\"Masukkan sisi a: \"))\n",
        "b = float(input(\"Masukkan sisi b: \"))\n",
        "c = float(input(\"Masukkan sisi c: \"))\n",
        "\n",
        "s = (a + b + c) / 2  # setengah keliling\n",
        "luas_segitiga = (s * (s - a) * (s - b) * (s - c))\n",
        "keliling_segitiga = a + b + c\n",
        "\n",
        "print(f\"Luas segitiga: {luas_segitiga}\")\n",
        "print(f\"Keliling segitiga: {keliling_segitiga}\")\n",
        "\n",
        "sisi_atas = float(input(\"Masukkan panjang sisi atas: \"))\n",
        "sisi_bawah = float(input(\"Masukkan panjang sisi bawah: \"))\n",
        "tinggi = float(input(\"Masukkan tinggi trapesium: \"))\n",
        "sisi_miring1 = float(input(\"Masukkan sisi miring pertama: \"))\n",
        "sisi_miring2 = float(input(\"Masukkan sisi miring kedua: \"))\n",
        "\n",
        "luas_trapesium = 0.5 * (sisi_atas + sisi_bawah) * tinggi\n",
        "keliling_trapesium = sisi_atas + sisi_bawah + sisi_miring1 + sisi_miring2\n",
        "\n",
        "print(f\"luas trapesium: {luas_trapesium}\")\n",
        "print(f\"keliling_trapesium: {keliling_trapesium}\")"
      ]
    }
  ]
}